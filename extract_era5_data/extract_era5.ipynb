{
 "cells": [
  {
   "cell_type": "markdown",
   "id": "12b7dc04",
   "metadata": {},
   "source": [
    "### Extract GRIB Data"
   ]
  },
  {
   "cell_type": "code",
   "execution_count": 1,
   "id": "08bd5b5f",
   "metadata": {},
   "outputs": [],
   "source": [
    "import pandas as pd\n",
    "import xarray as xr\n",
    "import os"
   ]
  },
  {
   "cell_type": "code",
   "execution_count": null,
   "id": "b42223fb",
   "metadata": {},
   "outputs": [],
   "source": [
    "def GRIB_to_df(region, filepath):\n",
    "    \"\"\"\n",
    "    Converts a GRIB file to a CSV file. \n",
    "    Inputs:\n",
    "        - filepath: string containing the path to the GRIB data\n",
    "        - region: string denoting the region of the data\n",
    "    Returns:\n",
    "    \"\"\"\n",
    "    # Open GRIB file using cfgrib engine\n",
    "    ds = xr.open_dataset(filepath, engine=\"cfgrib\")\n",
    "\n",
    "    print(ds) # debugging\n",
    "\n",
    "    # Average across latitude and longitude\n",
    "    regional_means = ds.mean(dim=[\"latitude\", \"longitude\"])\n",
    "\n",
    "    # Make DataFrame\n",
    "    df = regional_means.to_dataframe()\n",
    "\n",
    "    # Drop unnecessary columns\n",
    "    df.drop(columns=['valid_time', 'surface', 'step'], inplace=True)\n",
    "\n",
    "    # Rename columns\n",
    "    df.rename(columns={\n",
    "        't2m': f'temp_2m_{region}',\n",
    "        'u100': f'wind_u_100m_{region}',\n",
    "        'v100': f'wind_v_100m_{region}'\n",
    "    }, inplace=True)\n",
    "\n",
    "    return df\n"
   ]
  },
  {
   "cell_type": "code",
   "execution_count": null,
   "id": "ae8a12ab",
   "metadata": {},
   "outputs": [],
   "source": [
    "# Define file path\n",
    "filepath_dict = {'south':'raw_era5/era5_south.grib', \n",
    "             'north':'raw_era5/era5_north.grib',\n",
    "             'east':'raw_era5/era5_east.grib', \n",
    "             'west':'raw_era5/era5_west.grib'}\n",
    "\n",
    "region_dfs = []\n",
    "\n",
    "# Convert each GRIB file into a dataframe and save in list\n",
    "for region in filepath_dict:\n",
    "    region_df = GRIB_to_df(region, filepath_dict[region])\n",
    "    region_dfs.append(region_df)\n",
    "\n",
    "# Merge dataframes into one\n",
    "df_merged = pd.concat(region_dfs, axis=1)"
   ]
  },
  {
   "cell_type": "code",
   "execution_count": null,
   "id": "41179c44",
   "metadata": {},
   "outputs": [
    {
     "name": "stdout",
     "output_type": "stream",
     "text": [
      "Sucessfully saved as a CSV!\n"
     ]
    }
   ],
   "source": [
    "# Save to CSV\n",
    "clean_data_path = os.path.join('..', 'clean_data')\n",
    "output_path = os.path.join(clean_data_path, 'era5_wind_conditions_data.csv')\n",
    "df_merged.to_csv(output_path)\n",
    "\n",
    "print('Sucessfully saved as a CSV!')"
   ]
  },
  {
   "cell_type": "markdown",
   "id": "ac5831df",
   "metadata": {},
   "source": [
    "## Extract the Validation Dataset\n",
    "\n",
    "This data ranges from March 1, 2025 to April 17, 2025. "
   ]
  },
  {
   "cell_type": "code",
   "execution_count": 3,
   "id": "fd226a8c",
   "metadata": {},
   "outputs": [
    {
     "name": "stderr",
     "output_type": "stream",
     "text": [
      "c:\\Users\\kater\\miniconda3\\envs\\nrel_env\\lib\\site-packages\\cfgrib\\xarray_plugin.py:131: FutureWarning: In a future version of xarray decode_timedelta will default to False rather than None. To silence this warning, set decode_timedelta to True, False, or a 'CFTimedeltaCoder' instance.\n",
      "  vars, attrs, coord_names = xr.conventions.decode_cf_variables(\n"
     ]
    },
    {
     "name": "stdout",
     "output_type": "stream",
     "text": [
      "<xarray.Dataset> Size: 7MB\n",
      "Dimensions:     (time: 1131, latitude: 22, longitude: 23)\n",
      "Coordinates:\n",
      "    number      int64 8B ...\n",
      "  * time        (time) datetime64[ns] 9kB 2025-03-01 ... 2025-04-17T02:00:00\n",
      "    step        timedelta64[ns] 8B ...\n",
      "    surface     float64 8B ...\n",
      "  * latitude    (latitude) float64 176B 31.13 30.88 30.63 ... 26.38 26.13 25.88\n",
      "  * longitude   (longitude) float64 184B -101.4 -101.1 -100.9 ... -96.14 -95.89\n",
      "    valid_time  (time) datetime64[ns] 9kB ...\n",
      "Data variables:\n",
      "    t2m         (time, latitude, longitude) float32 2MB ...\n",
      "    u100        (time, latitude, longitude) float32 2MB ...\n",
      "    v100        (time, latitude, longitude) float32 2MB ...\n",
      "Attributes:\n",
      "    GRIB_edition:            1\n",
      "    GRIB_centre:             ecmf\n",
      "    GRIB_centreDescription:  European Centre for Medium-Range Weather Forecasts\n",
      "    GRIB_subCentre:          0\n",
      "    Conventions:             CF-1.7\n",
      "    institution:             European Centre for Medium-Range Weather Forecasts\n",
      "    history:                 2025-04-21T22:07 GRIB to CDM+CF via cfgrib-0.9.1...\n"
     ]
    },
    {
     "name": "stderr",
     "output_type": "stream",
     "text": [
      "c:\\Users\\kater\\miniconda3\\envs\\nrel_env\\lib\\site-packages\\cfgrib\\xarray_plugin.py:131: FutureWarning: In a future version of xarray decode_timedelta will default to False rather than None. To silence this warning, set decode_timedelta to True, False, or a 'CFTimedeltaCoder' instance.\n",
      "  vars, attrs, coord_names = xr.conventions.decode_cf_variables(\n"
     ]
    },
    {
     "name": "stdout",
     "output_type": "stream",
     "text": [
      "<xarray.Dataset> Size: 4MB\n",
      "Dimensions:     (time: 1131, latitude: 14, longitude: 19)\n",
      "Coordinates:\n",
      "    number      int64 8B ...\n",
      "  * time        (time) datetime64[ns] 9kB 2025-03-01 ... 2025-04-17T02:00:00\n",
      "    step        timedelta64[ns] 8B ...\n",
      "    surface     float64 8B ...\n",
      "  * latitude    (latitude) float64 112B 34.47 34.22 33.97 ... 31.72 31.47 31.22\n",
      "  * longitude   (longitude) float64 152B -100.0 -99.79 -99.54 ... -95.79 -95.54\n",
      "    valid_time  (time) datetime64[ns] 9kB ...\n",
      "Data variables:\n",
      "    t2m         (time, latitude, longitude) float32 1MB ...\n",
      "    u100        (time, latitude, longitude) float32 1MB ...\n",
      "    v100        (time, latitude, longitude) float32 1MB ...\n",
      "Attributes:\n",
      "    GRIB_edition:            1\n",
      "    GRIB_centre:             ecmf\n",
      "    GRIB_centreDescription:  European Centre for Medium-Range Weather Forecasts\n",
      "    GRIB_subCentre:          0\n",
      "    Conventions:             CF-1.7\n",
      "    institution:             European Centre for Medium-Range Weather Forecasts\n",
      "    history:                 2025-04-21T22:08 GRIB to CDM+CF via cfgrib-0.9.1...\n"
     ]
    },
    {
     "name": "stderr",
     "output_type": "stream",
     "text": [
      "c:\\Users\\kater\\miniconda3\\envs\\nrel_env\\lib\\site-packages\\cfgrib\\xarray_plugin.py:131: FutureWarning: In a future version of xarray decode_timedelta will default to False rather than None. To silence this warning, set decode_timedelta to True, False, or a 'CFTimedeltaCoder' instance.\n",
      "  vars, attrs, coord_names = xr.conventions.decode_cf_variables(\n"
     ]
    },
    {
     "name": "stdout",
     "output_type": "stream",
     "text": [
      "<xarray.Dataset> Size: 968kB\n",
      "Dimensions:     (time: 1131, latitude: 10, longitude: 7)\n",
      "Coordinates:\n",
      "    number      int64 8B ...\n",
      "  * time        (time) datetime64[ns] 9kB 2025-03-01 ... 2025-04-17T02:00:00\n",
      "    step        timedelta64[ns] 8B ...\n",
      "    surface     float64 8B ...\n",
      "  * latitude    (latitude) float64 80B 31.09 30.84 30.59 ... 29.34 29.09 28.84\n",
      "  * longitude   (longitude) float64 56B -95.8 -95.55 -95.3 ... -94.55 -94.3\n",
      "    valid_time  (time) datetime64[ns] 9kB ...\n",
      "Data variables:\n",
      "    t2m         (time, latitude, longitude) float32 317kB ...\n",
      "    u100        (time, latitude, longitude) float32 317kB ...\n",
      "    v100        (time, latitude, longitude) float32 317kB ...\n",
      "Attributes:\n",
      "    GRIB_edition:            1\n",
      "    GRIB_centre:             ecmf\n",
      "    GRIB_centreDescription:  European Centre for Medium-Range Weather Forecasts\n",
      "    GRIB_subCentre:          0\n",
      "    Conventions:             CF-1.7\n",
      "    institution:             European Centre for Medium-Range Weather Forecasts\n",
      "    history:                 2025-04-21T22:08 GRIB to CDM+CF via cfgrib-0.9.1...\n"
     ]
    },
    {
     "name": "stderr",
     "output_type": "stream",
     "text": [
      "c:\\Users\\kater\\miniconda3\\envs\\nrel_env\\lib\\site-packages\\cfgrib\\xarray_plugin.py:131: FutureWarning: In a future version of xarray decode_timedelta will default to False rather than None. To silence this warning, set decode_timedelta to True, False, or a 'CFTimedeltaCoder' instance.\n",
      "  vars, attrs, coord_names = xr.conventions.decode_cf_variables(\n"
     ]
    },
    {
     "name": "stdout",
     "output_type": "stream",
     "text": [
      "<xarray.Dataset> Size: 6MB\n",
      "Dimensions:     (time: 1131, latitude: 21, longitude: 21)\n",
      "Coordinates:\n",
      "    number      int64 8B ...\n",
      "  * time        (time) datetime64[ns] 9kB 2025-03-01 ... 2025-04-17T02:00:00\n",
      "    step        timedelta64[ns] 8B ...\n",
      "    surface     float64 8B ...\n",
      "  * latitude    (latitude) float64 168B 33.85 33.6 33.35 ... 29.35 29.1 28.85\n",
      "  * longitude   (longitude) float64 168B -105.0 -104.8 -104.5 ... -100.3 -100.0\n",
      "    valid_time  (time) datetime64[ns] 9kB ...\n",
      "Data variables:\n",
      "    t2m         (time, latitude, longitude) float32 2MB ...\n",
      "    u100        (time, latitude, longitude) float32 2MB ...\n",
      "    v100        (time, latitude, longitude) float32 2MB ...\n",
      "Attributes:\n",
      "    GRIB_edition:            1\n",
      "    GRIB_centre:             ecmf\n",
      "    GRIB_centreDescription:  European Centre for Medium-Range Weather Forecasts\n",
      "    GRIB_subCentre:          0\n",
      "    Conventions:             CF-1.7\n",
      "    institution:             European Centre for Medium-Range Weather Forecasts\n",
      "    history:                 2025-04-21T22:08 GRIB to CDM+CF via cfgrib-0.9.1...\n"
     ]
    }
   ],
   "source": [
    "# Define file path\n",
    "filepath_dict = {'south':'raw_era5_validation/era5_south_validation.grib', \n",
    "             'north':'raw_era5_validation/era5_north_validation.grib',\n",
    "             'east':'raw_era5_validation/era5_east_validation.grib', \n",
    "             'west':'raw_era5_validation/era5_west_validation.grib'}\n",
    "\n",
    "region_dfs = []\n",
    "\n",
    "# Convert each GRIB file into a dataframe and save in list\n",
    "for region in filepath_dict:\n",
    "    region_df = GRIB_to_df(region, filepath_dict[region])\n",
    "    region_dfs.append(region_df)\n",
    "\n",
    "# Merge dataframes into one\n",
    "df_validation_merged = pd.concat(region_dfs, axis=1)"
   ]
  },
  {
   "cell_type": "code",
   "execution_count": 4,
   "id": "75b57d18",
   "metadata": {},
   "outputs": [
    {
     "name": "stdout",
     "output_type": "stream",
     "text": [
      "Sucessfully saved as a CSV!\n"
     ]
    }
   ],
   "source": [
    "# Save to CSV\n",
    "clean_data_path = os.path.join('..', 'clean_data')\n",
    "output_path = os.path.join(clean_data_path, 'era5_validation_wind_conditions_data.csv')\n",
    "df_validation_merged.to_csv(output_path)\n",
    "\n",
    "print('Sucessfully saved as a CSV!')"
   ]
  }
 ],
 "metadata": {
  "kernelspec": {
   "display_name": "nrel_env",
   "language": "python",
   "name": "python3"
  },
  "language_info": {
   "codemirror_mode": {
    "name": "ipython",
    "version": 3
   },
   "file_extension": ".py",
   "mimetype": "text/x-python",
   "name": "python",
   "nbconvert_exporter": "python",
   "pygments_lexer": "ipython3",
   "version": "3.10.16"
  }
 },
 "nbformat": 4,
 "nbformat_minor": 5
}
