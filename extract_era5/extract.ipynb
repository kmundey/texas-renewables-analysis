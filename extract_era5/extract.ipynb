{
 "cells": [
  {
   "cell_type": "markdown",
   "id": "12b7dc04",
   "metadata": {},
   "source": [
    "### Extract GRIB Data"
   ]
  },
  {
   "cell_type": "code",
   "execution_count": null,
   "id": "08bd5b5f",
   "metadata": {},
   "outputs": [],
   "source": [
    "import pandas as pd\n",
    "import xarray as xr\n",
    "import os"
   ]
  },
  {
   "cell_type": "code",
   "execution_count": null,
   "id": "b42223fb",
   "metadata": {},
   "outputs": [],
   "source": [
    "def GRIB_to_df(region, filepath):\n",
    "    \"\"\"\n",
    "    Converts a GRIB file to a CSV file. \n",
    "    Inputs:\n",
    "        - filepath: string containing the path to the GRIB data\n",
    "        - region: string denoting the region of the data\n",
    "    Returns:\n",
    "    \"\"\"\n",
    "\n",
    "    # Open GRIB file using cfgrib engine\n",
    "    ds = xr.open_dataset(filepath, engine=\"cfgrib\")\n",
    "\n",
    "    # Average across latitude and longitude\n",
    "    regional_means = ds.mean(dim=[\"latitude\", \"longitude\"])\n",
    "\n",
    "    # Make DataFrame\n",
    "    df = regional_means.to_dataframe()\n",
    "\n",
    "    # Drop unnecessary columns\n",
    "    df.drop(columns=['valid_time', 'surface', 'step'], inplace=True)\n",
    "\n",
    "    # Rename columns\n",
    "    df.rename(columns={\n",
    "        't2m': f'temp_2m_{region}',\n",
    "        'u100': f'wind_u_100m_{region}',\n",
    "        'v100': f'wind_v_100m_{region}'\n",
    "    }, inplace=True)\n",
    "\n",
    "    return df\n"
   ]
  },
  {
   "cell_type": "code",
   "execution_count": null,
   "id": "ae8a12ab",
   "metadata": {},
   "outputs": [],
   "source": [
    "# Define file path\n",
    "filepath_dict = {'south':'raw_era5/era5_south.grib', \n",
    "             'north':'raw_era5/era5_north.grib',\n",
    "             'east':'raw_era5/era5_east.grib', \n",
    "             'west':'raw_era5/era5_west.grib'}\n",
    "\n",
    "region_dfs = []\n",
    "\n",
    "# Convert each GRIB file into a dataframe and save in list\n",
    "for region in filepath_dict:\n",
    "    region_df = GRIB_to_df(region, filepath_dict[region])\n",
    "    region_dfs.append(region_df)\n",
    "\n",
    "# Merge dataframes into one\n",
    "df_merged = pd.concat(region_dfs, axis=1)"
   ]
  },
  {
   "cell_type": "code",
   "execution_count": 4,
   "id": "41179c44",
   "metadata": {},
   "outputs": [
    {
     "name": "stdout",
     "output_type": "stream",
     "text": [
      "Sucessfully saved as a CSV!\n"
     ]
    }
   ],
   "source": [
    "# Save to CSV\n",
    "clean_data_path = os.path.join('..', 'clean_data')\n",
    "output_path = os.path.join(clean_data_path, 'era5_by_region.csv')\n",
    "df_merged.to_csv(output_path)\n",
    "\n",
    "print('Sucessfully saved as a CSV!')"
   ]
  }
 ],
 "metadata": {
  "kernelspec": {
   "display_name": "nrel_env",
   "language": "python",
   "name": "python3"
  },
  "language_info": {
   "codemirror_mode": {
    "name": "ipython",
    "version": 3
   },
   "file_extension": ".py",
   "mimetype": "text/x-python",
   "name": "python",
   "nbconvert_exporter": "python",
   "pygments_lexer": "ipython3",
   "version": "3.10.16"
  }
 },
 "nbformat": 4,
 "nbformat_minor": 5
}
